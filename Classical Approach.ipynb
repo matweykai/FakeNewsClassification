{
 "cells": [
  {
   "cell_type": "markdown",
   "id": "f347ada7",
   "metadata": {},
   "source": [
    "## Classical models prediction\n",
    "\n",
    "Попробуем предсказать класс новостного заголовка с помощью классических моделей"
   ]
  },
  {
   "cell_type": "markdown",
   "id": "087cbe29",
   "metadata": {},
   "source": [
    "### Imports"
   ]
  },
  {
   "cell_type": "code",
   "execution_count": 1,
   "id": "1d9ec00c",
   "metadata": {},
   "outputs": [],
   "source": [
    "import pandas as pd\n",
    "import numpy as np\n",
    "from typing import Union\n",
    "\n",
    "from sklearn.metrics import f1_score, make_scorer\n",
    "from sklearn.model_selection import train_test_split, GridSearchCV, RandomizedSearchCV, cross_val_score\n",
    "from sklearn.feature_extraction.text import TfidfVectorizer\n",
    "from sklearn.pipeline import make_pipeline\n",
    "from sklearn.compose import ColumnTransformer\n",
    "from sklearn.preprocessing import StandardScaler\n",
    "\n",
    "from sklearn.ensemble import RandomForestClassifier, BaggingClassifier\n",
    "from sklearn.linear_model import LogisticRegression\n",
    "\n",
    "from xgboost import XGBClassifier\n",
    "\n",
    "RND_STATE = 3010\n",
    "np.random.seed(RND_STATE)"
   ]
  },
  {
   "cell_type": "markdown",
   "id": "445c998a",
   "metadata": {},
   "source": [
    "## Data loading"
   ]
  },
  {
   "cell_type": "code",
   "execution_count": 2,
   "id": "f80d76e1",
   "metadata": {},
   "outputs": [],
   "source": [
    "train_ds = pd.read_csv('data/c_train.csv')\n",
    "test_ds = pd.read_csv('data/c_test.csv')"
   ]
  },
  {
   "cell_type": "code",
   "execution_count": 3,
   "id": "b82b09d6",
   "metadata": {},
   "outputs": [
    {
     "data": {
      "text/html": [
       "<div>\n",
       "<style scoped>\n",
       "    .dataframe tbody tr th:only-of-type {\n",
       "        vertical-align: middle;\n",
       "    }\n",
       "\n",
       "    .dataframe tbody tr th {\n",
       "        vertical-align: top;\n",
       "    }\n",
       "\n",
       "    .dataframe thead th {\n",
       "        text-align: right;\n",
       "    }\n",
       "</style>\n",
       "<table border=\"1\" class=\"dataframe\">\n",
       "  <thead>\n",
       "    <tr style=\"text-align: right;\">\n",
       "      <th></th>\n",
       "      <th>cleaned</th>\n",
       "      <th>is_fake</th>\n",
       "    </tr>\n",
       "  </thead>\n",
       "  <tbody>\n",
       "    <tr>\n",
       "      <th>0</th>\n",
       "      <td>москвич владимир клутин приходить счет вмешате...</td>\n",
       "      <td>1</td>\n",
       "    </tr>\n",
       "    <tr>\n",
       "      <th>1</th>\n",
       "      <td>агент кокорин называть езда встречок житейский...</td>\n",
       "      <td>0</td>\n",
       "    </tr>\n",
       "    <tr>\n",
       "      <th>2</th>\n",
       "      <td>госдума рассматривать возможность введение сек...</td>\n",
       "      <td>1</td>\n",
       "    </tr>\n",
       "  </tbody>\n",
       "</table>\n",
       "</div>"
      ],
      "text/plain": [
       "                                             cleaned  is_fake\n",
       "0  москвич владимир клутин приходить счет вмешате...        1\n",
       "1  агент кокорин называть езда встречок житейский...        0\n",
       "2  госдума рассматривать возможность введение сек...        1"
      ]
     },
     "execution_count": 3,
     "metadata": {},
     "output_type": "execute_result"
    }
   ],
   "source": [
    "train_ds.head(3)"
   ]
  },
  {
   "cell_type": "code",
   "execution_count": 4,
   "id": "49694a93",
   "metadata": {},
   "outputs": [
    {
     "data": {
      "text/html": [
       "<div>\n",
       "<style scoped>\n",
       "    .dataframe tbody tr th:only-of-type {\n",
       "        vertical-align: middle;\n",
       "    }\n",
       "\n",
       "    .dataframe tbody tr th {\n",
       "        vertical-align: top;\n",
       "    }\n",
       "\n",
       "    .dataframe thead th {\n",
       "        text-align: right;\n",
       "    }\n",
       "</style>\n",
       "<table border=\"1\" class=\"dataframe\">\n",
       "  <thead>\n",
       "    <tr style=\"text-align: right;\">\n",
       "      <th></th>\n",
       "      <th>cleaned</th>\n",
       "      <th>is_fake</th>\n",
       "    </tr>\n",
       "  </thead>\n",
       "  <tbody>\n",
       "    <tr>\n",
       "      <th>0</th>\n",
       "      <td>роскомнадзор представлять реестр сочетание цве...</td>\n",
       "      <td>0</td>\n",
       "    </tr>\n",
       "    <tr>\n",
       "      <th>1</th>\n",
       "      <td>ночь минск президентский горе беларашмор пик д...</td>\n",
       "      <td>0</td>\n",
       "    </tr>\n",
       "    <tr>\n",
       "      <th>2</th>\n",
       "      <td>бывший спичрайтер юрий лоза рассказывать трудн...</td>\n",
       "      <td>0</td>\n",
       "    </tr>\n",
       "    <tr>\n",
       "      <th>3</th>\n",
       "      <td>сельский церковь собирать рекордно низкий коли...</td>\n",
       "      <td>0</td>\n",
       "    </tr>\n",
       "    <tr>\n",
       "      <th>4</th>\n",
       "      <td>акция google рухнуть объявление перезапуск rutube</td>\n",
       "      <td>0</td>\n",
       "    </tr>\n",
       "  </tbody>\n",
       "</table>\n",
       "</div>"
      ],
      "text/plain": [
       "                                             cleaned  is_fake\n",
       "0  роскомнадзор представлять реестр сочетание цве...        0\n",
       "1  ночь минск президентский горе беларашмор пик д...        0\n",
       "2  бывший спичрайтер юрий лоза рассказывать трудн...        0\n",
       "3  сельский церковь собирать рекордно низкий коли...        0\n",
       "4  акция google рухнуть объявление перезапуск rutube        0"
      ]
     },
     "execution_count": 4,
     "metadata": {},
     "output_type": "execute_result"
    }
   ],
   "source": [
    "test_ds.head()"
   ]
  },
  {
   "cell_type": "markdown",
   "id": "427a2e0c",
   "metadata": {},
   "source": [
    "## Feature Engineering\n",
    "Добавим сюда признаки, полученные в ходе EDA"
   ]
  },
  {
   "cell_type": "code",
   "execution_count": 5,
   "id": "ff8c41c8",
   "metadata": {},
   "outputs": [],
   "source": [
    "def generate_features(ds: pd.DataFrame) -> pd.DataFrame:\n",
    "    result = ds.copy()\n",
    "    result['word_count'] = [len(t.split(' ')) for t in result.cleaned]\n",
    "    \n",
    "    return result"
   ]
  },
  {
   "cell_type": "code",
   "execution_count": 6,
   "id": "41bad5be",
   "metadata": {},
   "outputs": [],
   "source": [
    "train_ds = generate_features(train_ds)\n",
    "test_ds = generate_features(test_ds)"
   ]
  },
  {
   "cell_type": "markdown",
   "id": "fee91ed7",
   "metadata": {},
   "source": [
    "Переведём данные в векторную форму с помощью TF-IDF"
   ]
  },
  {
   "cell_type": "code",
   "execution_count": 7,
   "id": "44635d49",
   "metadata": {},
   "outputs": [],
   "source": [
    "usefull_columns = ['word_count']\n",
    "\n",
    "vector_pipeline = ColumnTransformer([('tf_idf_vect', TfidfVectorizer(), 'cleaned'), \n",
    "                                     ('selector', 'passthrough', usefull_columns)], )"
   ]
  },
  {
   "cell_type": "markdown",
   "id": "e7f331a2",
   "metadata": {},
   "source": [
    "## Подготовка тренировки\n",
    "\n",
    "Для того, чтобы проверить качество модели более объективно, выделим часть данных из тренировочной выборки для валидации "
   ]
  },
  {
   "cell_type": "code",
   "execution_count": 8,
   "id": "9434c6ce",
   "metadata": {},
   "outputs": [],
   "source": [
    "x_train, x_valid, y_train, y_valid = train_test_split(train_ds.drop(columns='is_fake'), train_ds.is_fake, \n",
    "                                                      test_size=0.2, random_state=RND_STATE, stratify=train_ds.is_fake)"
   ]
  },
  {
   "cell_type": "code",
   "execution_count": 9,
   "id": "0935a596",
   "metadata": {},
   "outputs": [
    {
     "data": {
      "text/html": [
       "<div>\n",
       "<style scoped>\n",
       "    .dataframe tbody tr th:only-of-type {\n",
       "        vertical-align: middle;\n",
       "    }\n",
       "\n",
       "    .dataframe tbody tr th {\n",
       "        vertical-align: top;\n",
       "    }\n",
       "\n",
       "    .dataframe thead th {\n",
       "        text-align: right;\n",
       "    }\n",
       "</style>\n",
       "<table border=\"1\" class=\"dataframe\">\n",
       "  <thead>\n",
       "    <tr style=\"text-align: right;\">\n",
       "      <th></th>\n",
       "      <th>cleaned</th>\n",
       "      <th>word_count</th>\n",
       "    </tr>\n",
       "  </thead>\n",
       "  <tbody>\n",
       "    <tr>\n",
       "      <th>726</th>\n",
       "      <td>европа отступать банановый фронт</td>\n",
       "      <td>4</td>\n",
       "    </tr>\n",
       "    <tr>\n",
       "      <th>2660</th>\n",
       "      <td>роскомнадзор проверять пропаганда гомосексуали...</td>\n",
       "      <td>9</td>\n",
       "    </tr>\n",
       "    <tr>\n",
       "      <th>7</th>\n",
       "      <td>россиянин обхитрить рост цена</td>\n",
       "      <td>4</td>\n",
       "    </tr>\n",
       "    <tr>\n",
       "      <th>1733</th>\n",
       "      <td>интер рао выкупать огк норникель</td>\n",
       "      <td>5</td>\n",
       "    </tr>\n",
       "    <tr>\n",
       "      <th>4658</th>\n",
       "      <td>главврач нок рб тимановский весь признак вялот...</td>\n",
       "      <td>11</td>\n",
       "    </tr>\n",
       "    <tr>\n",
       "      <th>...</th>\n",
       "      <td>...</td>\n",
       "      <td>...</td>\n",
       "    </tr>\n",
       "    <tr>\n",
       "      <th>43</th>\n",
       "      <td>онлайн свадьба год россия зафиксировать случай...</td>\n",
       "      <td>7</td>\n",
       "    </tr>\n",
       "    <tr>\n",
       "      <th>215</th>\n",
       "      <td>сколково доставлять образец кристалл комета га...</td>\n",
       "      <td>9</td>\n",
       "    </tr>\n",
       "    <tr>\n",
       "      <th>1482</th>\n",
       "      <td>бузов приглашать фанат встречаться январь цент...</td>\n",
       "      <td>7</td>\n",
       "    </tr>\n",
       "    <tr>\n",
       "      <th>680</th>\n",
       "      <td>боксер дрозд оценивать перспектива поветкин пр...</td>\n",
       "      <td>7</td>\n",
       "    </tr>\n",
       "    <tr>\n",
       "      <th>3183</th>\n",
       "      <td>требование казак алый парус праздник выпускник...</td>\n",
       "      <td>11</td>\n",
       "    </tr>\n",
       "  </tbody>\n",
       "</table>\n",
       "<p>4606 rows × 2 columns</p>\n",
       "</div>"
      ],
      "text/plain": [
       "                                                cleaned  word_count\n",
       "726                    европа отступать банановый фронт           4\n",
       "2660  роскомнадзор проверять пропаганда гомосексуали...           9\n",
       "7                         россиянин обхитрить рост цена           4\n",
       "1733                   интер рао выкупать огк норникель           5\n",
       "4658  главврач нок рб тимановский весь признак вялот...          11\n",
       "...                                                 ...         ...\n",
       "43    онлайн свадьба год россия зафиксировать случай...           7\n",
       "215   сколково доставлять образец кристалл комета га...           9\n",
       "1482  бузов приглашать фанат встречаться январь цент...           7\n",
       "680   боксер дрозд оценивать перспектива поветкин пр...           7\n",
       "3183  требование казак алый парус праздник выпускник...          11\n",
       "\n",
       "[4606 rows x 2 columns]"
      ]
     },
     "execution_count": 9,
     "metadata": {},
     "output_type": "execute_result"
    }
   ],
   "source": [
    "x_train"
   ]
  },
  {
   "cell_type": "code",
   "execution_count": 10,
   "id": "7ec359ef",
   "metadata": {},
   "outputs": [],
   "source": [
    "def print_results(cv_results: list) -> None:\n",
    "    print()\n",
    "    \n",
    "    for ind, val in enumerate(cv_results, 1):\n",
    "        print(f'\\t{ind} -> {round(val, 3)}')\n",
    "        \n",
    "    print('\\nСреднее значение метрики:', round(np.mean(cv_results), 3))\n",
    "\n",
    "    \n",
    "def print_grid_results(grid_searcher: Union[GridSearchCV, RandomizedSearchCV]) -> None:\n",
    "    print(\"Результаты подбора параметров:\\n\")\n",
    "    print(\"Лучшие параметры:\\n\")\n",
    "\n",
    "    for param_name, param_value in grid_searcher.best_params_.items():\n",
    "        print(f'\\t{param_name} = {param_value}')\n",
    "\n",
    "    print(\"\\nКачество модели на этих параметрах:\", round(grid_searcher.best_score_, 3))"
   ]
  },
  {
   "cell_type": "markdown",
   "id": "59923a8b",
   "metadata": {},
   "source": [
    "## RandomForest\n",
    "\n",
    "Обучим случайный лес, который задаст нам baseline для дальнейшего обучения. Данная модель почти не требует настройки и прекрасно работает из коробки, поэтому она хорошо подойдёт для начала"
   ]
  },
  {
   "cell_type": "code",
   "execution_count": 11,
   "id": "cf9163ac",
   "metadata": {},
   "outputs": [],
   "source": [
    "rf_model = RandomForestClassifier(n_estimators=250, random_state=RND_STATE)\n",
    "\n",
    "rf_pipeline = make_pipeline(vector_pipeline, rf_model)"
   ]
  },
  {
   "cell_type": "code",
   "execution_count": 12,
   "id": "81d61068",
   "metadata": {},
   "outputs": [
    {
     "name": "stdout",
     "output_type": "stream",
     "text": [
      "Wall time: 9.34 s\n"
     ]
    }
   ],
   "source": [
    "%%time\n",
    "\n",
    "rf_cv_res = cross_val_score(rf_pipeline, x_train, y_train, \n",
    "                            cv=5,\n",
    "                            scoring=make_scorer(f1_score),\n",
    "                            n_jobs=-1,\n",
    "                            error_score='raise',\n",
    "                           )"
   ]
  },
  {
   "cell_type": "code",
   "execution_count": 13,
   "id": "824c330b",
   "metadata": {
    "scrolled": true
   },
   "outputs": [
    {
     "name": "stdout",
     "output_type": "stream",
     "text": [
      "Результаты тренировки случайного леса\n",
      "\n",
      "\t1 -> 0.792\n",
      "\t2 -> 0.804\n",
      "\t3 -> 0.806\n",
      "\t4 -> 0.81\n",
      "\t5 -> 0.787\n",
      "\n",
      "Среднее значение метрики: 0.8\n"
     ]
    }
   ],
   "source": [
    "print(\"Результаты тренировки случайного леса\")\n",
    "print_results(rf_cv_res)"
   ]
  },
  {
   "cell_type": "markdown",
   "id": "bf0aeaa3",
   "metadata": {},
   "source": [
    "Попробуем подобрать параметры, чтобы немного улучшить результат"
   ]
  },
  {
   "cell_type": "code",
   "execution_count": 14,
   "id": "08fcffa7",
   "metadata": {},
   "outputs": [],
   "source": [
    "rf_tuned_model = RandomForestClassifier(n_estimators=250, n_jobs=-1, random_state=RND_STATE)\n",
    "\n",
    "rf_tuned_pipeline = make_pipeline(vector_pipeline, rf_tuned_model)"
   ]
  },
  {
   "cell_type": "code",
   "execution_count": 15,
   "id": "89700659",
   "metadata": {},
   "outputs": [
    {
     "name": "stdout",
     "output_type": "stream",
     "text": [
      "Wall time: 1min 3s\n",
      "Тренировка окончена\n"
     ]
    }
   ],
   "source": [
    "rf_param_grid = {\n",
    "    \"randomforestclassifier__criterion\": ['gini', 'entropy'],\n",
    "    \"randomforestclassifier__max_features\": ['auto', 'sqrt', 'log2'],\n",
    "    \"randomforestclassifier__min_samples_leaf\": [1, 2, 3, 5, 8],\n",
    "}\n",
    "\n",
    "rf_grid_searcher = GridSearchCV(rf_tuned_pipeline, rf_param_grid, \n",
    "                                cv=5, \n",
    "                                n_jobs=-1, \n",
    "                                scoring=make_scorer(f1_score)\n",
    "                               )\n",
    "\n",
    "%time rf_grid_searcher.fit(x_train, y_train);\n",
    "print(\"Тренировка окончена\")"
   ]
  },
  {
   "cell_type": "code",
   "execution_count": 16,
   "id": "f90ab1c2",
   "metadata": {},
   "outputs": [
    {
     "name": "stdout",
     "output_type": "stream",
     "text": [
      "Результаты подбора параметров:\n",
      "\n",
      "Лучшие параметры:\n",
      "\n",
      "\trandomforestclassifier__criterion = entropy\n",
      "\trandomforestclassifier__max_features = log2\n",
      "\trandomforestclassifier__min_samples_leaf = 1\n",
      "\n",
      "Качество модели на этих параметрах: 0.828\n"
     ]
    }
   ],
   "source": [
    "print_grid_results(rf_grid_searcher)"
   ]
  },
  {
   "cell_type": "markdown",
   "id": "84df9fcf",
   "metadata": {},
   "source": [
    "## Logistic regression\n",
    "\n",
    "Логистическая регрессия часто используется в задачах классификации, а в нашем случае, когда размерность пространства признаков может расти очень быстро при использовании биграм, триграм и тд, данная модель будет быстро обучаться и работать"
   ]
  },
  {
   "cell_type": "code",
   "execution_count": 17,
   "id": "f34552f9",
   "metadata": {},
   "outputs": [],
   "source": [
    "log_reg_model = LogisticRegression()\n",
    "\n",
    "log_reg_pipeline = make_pipeline(vector_pipeline, log_reg_model)"
   ]
  },
  {
   "cell_type": "code",
   "execution_count": 18,
   "id": "47f9c5dc",
   "metadata": {},
   "outputs": [
    {
     "name": "stdout",
     "output_type": "stream",
     "text": [
      "Wall time: 666 ms\n"
     ]
    }
   ],
   "source": [
    "%%time\n",
    "log_reg_cv_res = cross_val_score(log_reg_pipeline, x_train, y_train,\n",
    "                                 cv=5,\n",
    "                                 scoring=make_scorer(f1_score),\n",
    "                                 n_jobs=-1,\n",
    "                                 error_score='raise',\n",
    "                                )"
   ]
  },
  {
   "cell_type": "code",
   "execution_count": 19,
   "id": "6d728e43",
   "metadata": {},
   "outputs": [
    {
     "name": "stdout",
     "output_type": "stream",
     "text": [
      "Результаты тренировки логистической регрессии\n",
      "\n",
      "\t1 -> 0.809\n",
      "\t2 -> 0.834\n",
      "\t3 -> 0.831\n",
      "\t4 -> 0.83\n",
      "\t5 -> 0.826\n",
      "\n",
      "Среднее значение метрики: 0.826\n"
     ]
    }
   ],
   "source": [
    "print(\"Результаты тренировки логистической регрессии\")\n",
    "print_results(log_reg_cv_res)"
   ]
  },
  {
   "cell_type": "markdown",
   "id": "ffa5fc1c",
   "metadata": {},
   "source": [
    "Настраиваем модель с помощью гиперпараметров"
   ]
  },
  {
   "cell_type": "markdown",
   "id": "8b9b06e3",
   "metadata": {},
   "source": [
    "Так как мы работаем с логистической регрессией нужно не забыть про масштабирование признаков(хотя tf-idf уже упростил эту задачу)"
   ]
  },
  {
   "cell_type": "code",
   "execution_count": 20,
   "id": "959359ef",
   "metadata": {},
   "outputs": [],
   "source": [
    "log_reg_tuned_model = LogisticRegression(solver='liblinear', random_state=RND_STATE, max_iter=400)\n",
    "\n",
    "log_reg_tuned_pipeline = make_pipeline(vector_pipeline, StandardScaler(with_mean=False), log_reg_tuned_model)"
   ]
  },
  {
   "cell_type": "code",
   "execution_count": 21,
   "id": "92fb8c15",
   "metadata": {
    "scrolled": true
   },
   "outputs": [
    {
     "name": "stdout",
     "output_type": "stream",
     "text": [
      "Wall time: 5.65 s\n",
      "Тренировка окончена\n"
     ]
    }
   ],
   "source": [
    "log_reg_param_grid = {\n",
    "    \"logisticregression__C\": [1e-5, 1e-4, 1e-3, 1e-2, 7e-2, 8e-2, 9e-2, 1e-1, 2e-1, 3e-1, 4e-1, 5e-1, 1, 1e1, 1e2],\n",
    "    \"logisticregression__penalty\": ['l2', 'l1'],\n",
    "}\n",
    "\n",
    "log_reg_grid_searcher = GridSearchCV(log_reg_tuned_pipeline, log_reg_param_grid, \n",
    "                                     cv=5, \n",
    "                                     n_jobs=-1, \n",
    "                                     scoring=make_scorer(f1_score),\n",
    "                                    )\n",
    "\n",
    "%time log_reg_grid_searcher.fit(x_train, y_train);\n",
    "print(\"Тренировка окончена\")"
   ]
  },
  {
   "cell_type": "code",
   "execution_count": 22,
   "id": "93c02d8d",
   "metadata": {},
   "outputs": [
    {
     "name": "stdout",
     "output_type": "stream",
     "text": [
      "Результаты подбора параметров:\n",
      "\n",
      "Лучшие параметры:\n",
      "\n",
      "\tlogisticregression__C = 0.001\n",
      "\tlogisticregression__penalty = l2\n",
      "\n",
      "Качество модели на этих параметрах: 0.838\n"
     ]
    }
   ],
   "source": [
    "print_grid_results(log_reg_grid_searcher)"
   ]
  },
  {
   "cell_type": "markdown",
   "id": "82731fcd",
   "metadata": {},
   "source": [
    "## GBM (Gradient Boosting Machine)\n",
    "\n",
    "Данный алгоритм активно используется на Kaggle соревнованиях и является очень мощной моделью, которая при правильной настройке может выдать очень неплохой результат"
   ]
  },
  {
   "cell_type": "code",
   "execution_count": 23,
   "id": "7bd1d661",
   "metadata": {},
   "outputs": [],
   "source": [
    "gbm_model = XGBClassifier()\n",
    "\n",
    "gbm_pipeline = make_pipeline(vector_pipeline, StandardScaler(with_mean=False), gbm_model)"
   ]
  },
  {
   "cell_type": "code",
   "execution_count": 24,
   "id": "c62a27e7",
   "metadata": {},
   "outputs": [
    {
     "name": "stdout",
     "output_type": "stream",
     "text": [
      "Wall time: 3.07 s\n"
     ]
    }
   ],
   "source": [
    "%%time\n",
    "gbm_cv_res = cross_val_score(gbm_pipeline, x_train, y_train,\n",
    "                             cv=5,\n",
    "                             scoring=make_scorer(f1_score),\n",
    "                             n_jobs=-1,\n",
    "                             error_score='raise',\n",
    "                            )"
   ]
  },
  {
   "cell_type": "code",
   "execution_count": 25,
   "id": "c7bed55f",
   "metadata": {},
   "outputs": [
    {
     "name": "stdout",
     "output_type": "stream",
     "text": [
      "Результаты тренировки градиетного бустинга\n",
      "\n",
      "\t1 -> 0.782\n",
      "\t2 -> 0.806\n",
      "\t3 -> 0.795\n",
      "\t4 -> 0.803\n",
      "\t5 -> 0.794\n",
      "\n",
      "Среднее значение метрики: 0.796\n"
     ]
    }
   ],
   "source": [
    "print(\"Результаты тренировки градиетного бустинга\")\n",
    "print_results(gbm_cv_res)"
   ]
  },
  {
   "cell_type": "markdown",
   "id": "4ed90807",
   "metadata": {},
   "source": [
    "А теперь проведём настройку параметров"
   ]
  },
  {
   "cell_type": "code",
   "execution_count": 26,
   "id": "8cd07faf",
   "metadata": {},
   "outputs": [],
   "source": [
    "gbm_tuned_model = XGBClassifier(use_label_encoder=False)\n",
    "\n",
    "gbm_tuned_pipeline = make_pipeline(vector_pipeline, StandardScaler(with_mean=False), gbm_tuned_model)"
   ]
  },
  {
   "cell_type": "code",
   "execution_count": 27,
   "id": "5e95a8b1",
   "metadata": {},
   "outputs": [
    {
     "name": "stdout",
     "output_type": "stream",
     "text": [
      "[00:11:15] WARNING: C:/Users/Administrator/workspace/xgboost-win64_release_1.4.0/src/learner.cc:1095: Starting in XGBoost 1.3.0, the default evaluation metric used with the objective 'binary:logistic' was changed from 'error' to 'logloss'. Explicitly set eval_metric if you'd like to restore the old behavior.\n",
      "Wall time: 2min 7s\n",
      "Тренировка окончена\n"
     ]
    }
   ],
   "source": [
    "gbm_param_grid = {\n",
    "    \"xgbclassifier__n_estimators\": list(range(100, 501, 50)),\n",
    "    \"xgbclassifier__max_depth\": [1, 2, 3, 5, 8],\n",
    "    \"xgbclassifier__learning_rate\": [1e-5, 1e-4, 1e-3, 1e-2, 1e-1, 1, 1e1, 1e2],\n",
    "    \"xgbclassifier__reg_alpha\": [1e-5, 1e-4, 1e-3, 1e-2, 1e-1, 1, 1e1, 1e2],\n",
    "    \"xgbclassifier__reg_lambda\": [1e-5, 1e-4, 1e-3, 1e-2, 1e-1, 1, 1e1, 1e2],\n",
    "}\n",
    "\n",
    "gbm_grid_searcher = RandomizedSearchCV(gbm_tuned_pipeline, gbm_param_grid, \n",
    "                                       cv=5, \n",
    "                                       n_jobs=-1, \n",
    "                                       scoring=make_scorer(f1_score),\n",
    "                                       random_state=RND_STATE,\n",
    "                                       n_iter=20,\n",
    "                                      )\n",
    "\n",
    "%time gbm_grid_searcher.fit(x_train, y_train);\n",
    "print(\"Тренировка окончена\")"
   ]
  },
  {
   "cell_type": "code",
   "execution_count": 28,
   "id": "d33c5860",
   "metadata": {},
   "outputs": [
    {
     "name": "stdout",
     "output_type": "stream",
     "text": [
      "Результаты подбора параметров:\n",
      "\n",
      "Лучшие параметры:\n",
      "\n",
      "\txgbclassifier__reg_lambda = 10.0\n",
      "\txgbclassifier__reg_alpha = 0.01\n",
      "\txgbclassifier__n_estimators = 350\n",
      "\txgbclassifier__max_depth = 3\n",
      "\txgbclassifier__learning_rate = 1\n",
      "\n",
      "Качество модели на этих параметрах: 0.804\n"
     ]
    }
   ],
   "source": [
    "print_grid_results(gbm_grid_searcher)"
   ]
  },
  {
   "cell_type": "markdown",
   "id": "36e3677f",
   "metadata": {},
   "source": [
    "Подбор параметров не очень эффективен, тк перебор по сетке целиком дорогой по времени, а случайный перебор не может подобрать хорошие параметры, тк видит только подмножество параметров. Воспользуемся ручным подбором параметров"
   ]
  },
  {
   "cell_type": "code",
   "execution_count": 29,
   "id": "4b9ae32b",
   "metadata": {},
   "outputs": [],
   "source": [
    "gbm_params = {\n",
    "    \"xgbclassifier__n_estimators\": 175,\n",
    "    \"xgbclassifier__max_depth\": 4,\n",
    "    \"xgbclassifier__learning_rate\": 0.6,\n",
    "    \"xgbclassifier__reg_alpha\": 0.2,\n",
    "    \"xgbclassifier__reg_lambda\": 4e-1,\n",
    "    \"xgbclassifier__colsample_bytree\": 0.1,\n",
    "}\n",
    "\n",
    "gbm_tuned_pipeline.set_params(**gbm_params);"
   ]
  },
  {
   "cell_type": "code",
   "execution_count": 30,
   "id": "eec2e36d",
   "metadata": {},
   "outputs": [
    {
     "name": "stdout",
     "output_type": "stream",
     "text": [
      "Wall time: 3.02 s\n"
     ]
    }
   ],
   "source": [
    "%%time \n",
    "gbm_tuned_cv_res = cross_val_score(gbm_tuned_pipeline, x_train, y_train,\n",
    "                                   cv=5,\n",
    "                                   scoring=make_scorer(f1_score),\n",
    "                                   n_jobs=-1,\n",
    "                                   error_score='raise',\n",
    "                                  )"
   ]
  },
  {
   "cell_type": "code",
   "execution_count": 31,
   "id": "1e71aa99",
   "metadata": {
    "scrolled": false
   },
   "outputs": [
    {
     "name": "stdout",
     "output_type": "stream",
     "text": [
      "Результаты тренировки:\n",
      "\n",
      "\t1 -> 0.798\n",
      "\t2 -> 0.806\n",
      "\t3 -> 0.804\n",
      "\t4 -> 0.804\n",
      "\t5 -> 0.802\n",
      "\n",
      "Среднее значение метрики: 0.803\n"
     ]
    }
   ],
   "source": [
    "print(\"Результаты тренировки:\")\n",
    "print_results(gbm_tuned_cv_res)"
   ]
  },
  {
   "cell_type": "markdown",
   "id": "73283fc4",
   "metadata": {},
   "source": [
    "Подбор параметров в ручную не дал сильной прибавки в качестве"
   ]
  },
  {
   "cell_type": "markdown",
   "id": "a02824bc",
   "metadata": {},
   "source": [
    "## Bagging\n",
    "\n",
    "Как видно из предыдущего исследования лучше всего себя показала **логистическая регрессия**. Можно попробовать *объединить несколько логистических регрессий в один ансамбль* алгоритмов с помощью бэггинга. Возможно, полученная модель будет сильнее одного классификатора."
   ]
  },
  {
   "cell_type": "code",
   "execution_count": 32,
   "id": "25fbcf0e",
   "metadata": {},
   "outputs": [],
   "source": [
    "bagging_model = BaggingClassifier(LogisticRegression())\n",
    "\n",
    "bagging_pipeline = make_pipeline(vector_pipeline, StandardScaler(with_mean=False), bagging_model)"
   ]
  },
  {
   "cell_type": "code",
   "execution_count": 33,
   "id": "75252582",
   "metadata": {},
   "outputs": [
    {
     "name": "stdout",
     "output_type": "stream",
     "text": [
      "Wall time: 2.09 s\n"
     ]
    }
   ],
   "source": [
    "%%time\n",
    "bagging_cv_res = cross_val_score(bagging_pipeline, x_train, y_train,\n",
    "                                 cv=5,\n",
    "                                 scoring=make_scorer(f1_score),\n",
    "                                 n_jobs=-1,\n",
    "                                 error_score='raise',\n",
    "                                )"
   ]
  },
  {
   "cell_type": "code",
   "execution_count": 34,
   "id": "0a1c279f",
   "metadata": {},
   "outputs": [
    {
     "name": "stdout",
     "output_type": "stream",
     "text": [
      "Результаты тренировки бэггинга на логистической регрессии\n",
      "\n",
      "\t1 -> 0.836\n",
      "\t2 -> 0.836\n",
      "\t3 -> 0.842\n",
      "\t4 -> 0.849\n",
      "\t5 -> 0.854\n",
      "\n",
      "Среднее значение метрики: 0.843\n"
     ]
    }
   ],
   "source": [
    "print(\"Результаты тренировки бэггинга на логистической регрессии\")\n",
    "print_results(bagging_cv_res)"
   ]
  },
  {
   "cell_type": "markdown",
   "id": "897849c7",
   "metadata": {},
   "source": [
    "Подберём параметры для бэггинга и логистического регрессора"
   ]
  },
  {
   "cell_type": "code",
   "execution_count": 35,
   "id": "67f0cc48",
   "metadata": {},
   "outputs": [],
   "source": [
    "bagging_tuned_model = BaggingClassifier(LogisticRegression(), #log_reg_grid_searcher.best_estimator_.named_steps['logisticregression'], \n",
    "                                        n_jobs=-1,\n",
    "                                        random_state=RND_STATE,\n",
    "                                       )\n",
    "\n",
    "bagging_tuned_pipeline = make_pipeline(vector_pipeline, StandardScaler(with_mean=False), bagging_tuned_model)"
   ]
  },
  {
   "cell_type": "code",
   "execution_count": 36,
   "id": "61193d1b",
   "metadata": {},
   "outputs": [
    {
     "name": "stdout",
     "output_type": "stream",
     "text": [
      "Wall time: 3min 28s\n",
      "Тренировка окончена\n"
     ]
    }
   ],
   "source": [
    "bagging_param_grid = {\n",
    "    \"baggingclassifier__n_estimators\": list(range(10, 101, 10)) + [3, 5, 8],\n",
    "    \"baggingclassifier__max_samples\": [0.5, 0.7, 0.9, 1.0],\n",
    "    \"baggingclassifier__max_features\": [0.5, 0.7, 0.9, 1.0],\n",
    "}\n",
    "\n",
    "bagging_grid_searcher = RandomizedSearchCV(bagging_tuned_pipeline, bagging_param_grid, \n",
    "                                           cv=5, \n",
    "                                           n_jobs=-1, \n",
    "                                           scoring=make_scorer(f1_score),\n",
    "                                           random_state=RND_STATE,\n",
    "                                           n_iter=20,\n",
    "                                          )\n",
    "\n",
    "%time bagging_grid_searcher.fit(x_train, y_train);\n",
    "print(\"Тренировка окончена\")"
   ]
  },
  {
   "cell_type": "code",
   "execution_count": 37,
   "id": "2728003a",
   "metadata": {},
   "outputs": [
    {
     "name": "stdout",
     "output_type": "stream",
     "text": [
      "Результаты подбора параметров:\n",
      "\n",
      "Лучшие параметры:\n",
      "\n",
      "\tbaggingclassifier__n_estimators = 90\n",
      "\tbaggingclassifier__max_samples = 0.7\n",
      "\tbaggingclassifier__max_features = 0.5\n",
      "\n",
      "Качество модели на этих параметрах: 0.856\n"
     ]
    }
   ],
   "source": [
    "print_grid_results(bagging_grid_searcher)"
   ]
  },
  {
   "cell_type": "markdown",
   "id": "ba459cae",
   "metadata": {},
   "source": [
    "Отсюда видно, что качество ансамбля моделей лучше чем один классификатор"
   ]
  },
  {
   "cell_type": "markdown",
   "id": "36de1554",
   "metadata": {},
   "source": [
    "## Проверка качества\n",
    "\n",
    "Выполним проверку модели с помощью отложенной выборки, которую мы выделили в начале исследования"
   ]
  },
  {
   "cell_type": "code",
   "execution_count": 38,
   "id": "13cbfc7f",
   "metadata": {},
   "outputs": [],
   "source": [
    "best_model = bagging_grid_searcher.best_estimator_"
   ]
  },
  {
   "cell_type": "code",
   "execution_count": 39,
   "id": "138e6898",
   "metadata": {},
   "outputs": [
    {
     "name": "stdout",
     "output_type": "stream",
     "text": [
      "Качество лучшей модели на отложенной выборке: \n",
      "F1 score -> 0.873\n"
     ]
    }
   ],
   "source": [
    "print(\"Качество лучшей модели на отложенной выборке: \")\n",
    "print(\"F1 score ->\", round(f1_score(y_valid, best_model.predict(x_valid)), 3))"
   ]
  },
  {
   "cell_type": "markdown",
   "id": "543c0f66",
   "metadata": {},
   "source": [
    "## Вывод\n",
    "\n",
    "Лучшей моделью оказался *бэггинг на логистической регрессии* и лучшее качество, которого удалось достичь с помощью *классического подхода*, на отложенной выборке равно **0.873**"
   ]
  },
  {
   "cell_type": "markdown",
   "id": "6e0f2d72",
   "metadata": {},
   "source": [
    "## Сохраняем предсказания для тестовой выборки"
   ]
  },
  {
   "cell_type": "code",
   "execution_count": 40,
   "id": "5f6308b4",
   "metadata": {},
   "outputs": [],
   "source": [
    "test_pred = best_model.predict(test_ds.drop(columns='is_fake'))"
   ]
  },
  {
   "cell_type": "code",
   "execution_count": 41,
   "id": "2b2da020",
   "metadata": {},
   "outputs": [],
   "source": [
    "test_ds = pd.read_csv('data/dataset/test.tsv', sep='\\t')"
   ]
  },
  {
   "cell_type": "code",
   "execution_count": 42,
   "id": "42871679",
   "metadata": {},
   "outputs": [],
   "source": [
    "test_ds['is_fake'] = test_pred"
   ]
  },
  {
   "cell_type": "code",
   "execution_count": 43,
   "id": "e7ad59fb",
   "metadata": {},
   "outputs": [],
   "source": [
    "test_ds.to_csv('predictions.tsv', sep='\\t', index=False)"
   ]
  }
 ],
 "metadata": {
  "kernelspec": {
   "display_name": "Python 3",
   "language": "python",
   "name": "python3"
  },
  "language_info": {
   "codemirror_mode": {
    "name": "ipython",
    "version": 3
   },
   "file_extension": ".py",
   "mimetype": "text/x-python",
   "name": "python",
   "nbconvert_exporter": "python",
   "pygments_lexer": "ipython3",
   "version": "3.8.8"
  }
 },
 "nbformat": 4,
 "nbformat_minor": 5
}
